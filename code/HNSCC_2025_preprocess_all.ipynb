{
 "cells": [
  {
   "cell_type": "markdown",
   "metadata": {},
   "source": [
    "## Import Packages"
   ]
  },
  {
   "cell_type": "code",
   "execution_count": 9,
   "metadata": {},
   "outputs": [],
   "source": [
    "# import packages\n",
    "# Importing all necessary packages\n",
    "\n",
    "import numpy as np\n",
    "import pandas as pd\n",
    "#from sklearn.decomposition import PCA\n",
    "import collections\n",
    "from sklearn.model_selection import train_test_split\n",
    "\n",
    "# importing os module\n",
    "import os\n",
    "import time\n",
    "\n",
    "#import seaborn as sns\n",
    "import matplotlib.pyplot as plt\n",
    "\n",
    "\n",
    "from sklearn.preprocessing import StandardScaler\n",
    "from sklearn.preprocessing import MinMaxScaler\n",
    "from sklearn.feature_selection import SelectKBest\n",
    "from sklearn.feature_selection import f_classif\n",
    "\n",
    "\n",
    "\n",
    "\n",
    "from sklearn.metrics import confusion_matrix\n",
    "from sklearn.metrics import ConfusionMatrixDisplay\n",
    "from sklearn.metrics import classification_report\n",
    "from sklearn.model_selection import ShuffleSplit\n",
    "from sklearn.model_selection import cross_val_score\n",
    "from sklearn.model_selection import StratifiedKFold\n",
    "\n",
    "\n",
    "from sklearn import impute\n",
    "from sklearn.impute import SimpleImputer\n",
    "from sklearn.impute import KNNImputer\n",
    "#import shap\n",
    "import random\n",
    "\n",
    "import warnings\n",
    "warnings.filterwarnings(\"ignore\")"
   ]
  },
  {
   "cell_type": "markdown",
   "metadata": {},
   "source": [
    "## MAIN - Preprocessing "
   ]
  },
  {
   "cell_type": "code",
   "execution_count": null,
   "metadata": {},
   "outputs": [],
   "source": [
    "# df_rn = pd.read_csv(\"data/RNAseq/HS_CPTAC_HNSCC_RNAseq_RSEM_UQ_log2_Normal.cct\", sep=\"\\t\", index_col=0)\n",
    "# df_rt = pd.read_csv(\"data/RNAseq/HS_CPTAC_HNSCC_RNAseq_RSEM_UQ_log2_Tumor.cct\", sep=\"\\t\", index_col=0)\n",
    "# df_pn = pd.read_csv(\"data/Pro/HS_CPTAC_HNSCC_Proteomics_TMT_Gene_level_Normal.cct\", sep=\"\\t\", index_col=0)\n",
    "# df_pt = pd.read_csv(\"data/Pro/HS_CPTAC_HNSCC_Proteomics_TMT_Gene_level_Tumor.cct\", sep=\"\\t\", index_col=0)\n",
    "# df_ppn = pd.read_csv(\"data/PPro/HS_CPTAC_HNSCC_Phosphoproteomics_TMT_Gene_level_Normal.cct\", sep=\"\\t\", index_col=0)\n",
    "# df_ppt = pd.read_csv(\"data/PPro/HS_CPTAC_HNSCC_Phosphoproteomics_TMT_Gene_level_Tumor.cct\", sep=\"\\t\", index_col=0)\n",
    "# df_mn = pd.read_csv(\"data/Meth/HS_CPTAC_HNSCC_Methylation_betaValue_Gene_level_Normal.cct\", sep=\"\\t\", index_col=0)\n",
    "# df_mt = pd.read_csv(\"data/Meth/HS_CPTAC_HNSCC_Methylation_betaValue_Gene_level_Tumor.cct\", sep=\"\\t\", index_col=0)\n",
    "\n"
   ]
  },
  {
   "cell_type": "code",
   "execution_count": null,
   "metadata": {},
   "outputs": [],
   "source": [
    "# df_rn = df_rn.T\n",
    "# df_rt = df_rt.T\n",
    "# df_pn = df_pn.T\n",
    "# df_pt = df_pt.T\n",
    "# df_ppn = df_ppn.T\n",
    "# df_ppt = df_ppt.T\n",
    "# df_mn = df_mn.T\n",
    "# df_mt = df_mt.T\n"
   ]
  },
  {
   "cell_type": "code",
   "execution_count": null,
   "metadata": {},
   "outputs": [
    {
     "name": "stdout",
     "output_type": "stream",
     "text": [
      "38456 38456 9666 9666 6359 6359 13116 13116\n"
     ]
    }
   ],
   "source": [
    "# features_rn = list(df_rn.columns)\n",
    "# features_rt = list(df_rt.columns)\n",
    "# features_pn = list(df_pn.columns)\n",
    "# features_pt = list(df_pt.columns)\n",
    "# features_ppn = list(df_ppn.columns)\n",
    "# features_ppt = list(df_ppt.columns)\n",
    "# features_mn = list(df_mn.columns)\n",
    "# features_mt = list(df_mt.columns)\n",
    "# print(len(features_rn), len(features_rt), len(features_pn), len(features_pt), len(features_ppn), len(features_ppt), len(features_mn), len(features_mt))\n"
   ]
  },
  {
   "cell_type": "markdown",
   "metadata": {},
   "source": [
    "Exploratory Data Analysis"
   ]
  },
  {
   "cell_type": "code",
   "execution_count": null,
   "metadata": {},
   "outputs": [],
   "source": [
    "# dfs = [df_rn, df_rt, df_pn, df_pt, df_ppn, df_ppt, df_mn, df_mt]\n",
    "# columns = [\"Mean\", \"Max\", \"Min\", \"StdDev\", \"Variance\", \"Skewness\"]\n",
    "# index = [\"RN\",\"RT\", \"PN\",\"PT\",\"PPN\",\"PPT\",\"MN\",\"MT\"]\n",
    "# # creating a dataframe for all omics\n",
    "# df_stat = pd.DataFrame(columns=columns, index=index)\n",
    "# for i, df in enumerate(dfs):\n",
    "#     df_stat.loc[index[i], \"Mean\"] = df.mean().mean()\n",
    "#     df_stat.loc[index[i], \"Max\"] = df.max().max()\n",
    "#     df_stat.loc[index[i], \"Min\"] = df.min().min()\n",
    "#     df_stat.loc[index[i], \"StdDev\"] = df.std().std()\n",
    "#     df_stat.loc[index[i], \"Variance\"] = df.var().var()\n",
    "#     df_stat.loc[index[i], \"Skewness\"] = df.skew().mean()\n",
    "#     # kurtosis\n",
    "#     df_stat.loc[index[i], \"Kurtosis\"] = df.kurtosis().mean()\n",
    "\n",
    "\n"
   ]
  },
  {
   "cell_type": "markdown",
   "metadata": {},
   "source": [
    "Class wise analysis"
   ]
  },
  {
   "cell_type": "code",
   "execution_count": null,
   "metadata": {},
   "outputs": [
    {
     "data": {
      "text/html": [
       "<div>\n",
       "<style scoped>\n",
       "    .dataframe tbody tr th:only-of-type {\n",
       "        vertical-align: middle;\n",
       "    }\n",
       "\n",
       "    .dataframe tbody tr th {\n",
       "        vertical-align: top;\n",
       "    }\n",
       "\n",
       "    .dataframe thead th {\n",
       "        text-align: right;\n",
       "    }\n",
       "</style>\n",
       "<table border=\"1\" class=\"dataframe\">\n",
       "  <thead>\n",
       "    <tr style=\"text-align: right;\">\n",
       "      <th></th>\n",
       "      <th>Mean</th>\n",
       "      <th>Max</th>\n",
       "      <th>Min</th>\n",
       "      <th>StdDev</th>\n",
       "      <th>Variance</th>\n",
       "      <th>Skewness</th>\n",
       "      <th>Kurtosis</th>\n",
       "    </tr>\n",
       "  </thead>\n",
       "  <tbody>\n",
       "    <tr>\n",
       "      <th>RN</th>\n",
       "      <td>5.20822</td>\n",
       "      <td>21.62</td>\n",
       "      <td>0.0</td>\n",
       "      <td>0.5524</td>\n",
       "      <td>3.147946</td>\n",
       "      <td>0.498253</td>\n",
       "      <td>3.044854</td>\n",
       "    </tr>\n",
       "    <tr>\n",
       "      <th>RT</th>\n",
       "      <td>5.22239</td>\n",
       "      <td>21.62</td>\n",
       "      <td>0.0</td>\n",
       "      <td>0.550852</td>\n",
       "      <td>2.269222</td>\n",
       "      <td>0.822796</td>\n",
       "      <td>4.968971</td>\n",
       "    </tr>\n",
       "    <tr>\n",
       "      <th>PN</th>\n",
       "      <td>23.995794</td>\n",
       "      <td>35.771483</td>\n",
       "      <td>13.062791</td>\n",
       "      <td>0.30418</td>\n",
       "      <td>0.300045</td>\n",
       "      <td>0.108545</td>\n",
       "      <td>0.849933</td>\n",
       "    </tr>\n",
       "    <tr>\n",
       "      <th>PT</th>\n",
       "      <td>23.92866</td>\n",
       "      <td>35.470163</td>\n",
       "      <td>12.626998</td>\n",
       "      <td>0.245273</td>\n",
       "      <td>0.130735</td>\n",
       "      <td>0.224235</td>\n",
       "      <td>1.159490</td>\n",
       "    </tr>\n",
       "    <tr>\n",
       "      <th>PPN</th>\n",
       "      <td>22.160852</td>\n",
       "      <td>34.296844</td>\n",
       "      <td>13.085094</td>\n",
       "      <td>0.287994</td>\n",
       "      <td>0.283457</td>\n",
       "      <td>0.111787</td>\n",
       "      <td>0.617180</td>\n",
       "    </tr>\n",
       "    <tr>\n",
       "      <th>PPT</th>\n",
       "      <td>22.119613</td>\n",
       "      <td>35.396465</td>\n",
       "      <td>12.741892</td>\n",
       "      <td>0.222973</td>\n",
       "      <td>0.108338</td>\n",
       "      <td>0.236704</td>\n",
       "      <td>0.922548</td>\n",
       "    </tr>\n",
       "    <tr>\n",
       "      <th>MN</th>\n",
       "      <td>0.073587</td>\n",
       "      <td>0.994394</td>\n",
       "      <td>0.000198</td>\n",
       "      <td>0.026129</td>\n",
       "      <td>0.000008</td>\n",
       "      <td>0.780114</td>\n",
       "      <td>1.804368</td>\n",
       "    </tr>\n",
       "    <tr>\n",
       "      <th>MT</th>\n",
       "      <td>0.089482</td>\n",
       "      <td>0.993727</td>\n",
       "      <td>0.000176</td>\n",
       "      <td>0.047462</td>\n",
       "      <td>0.000051</td>\n",
       "      <td>1.524209</td>\n",
       "      <td>6.867919</td>\n",
       "    </tr>\n",
       "  </tbody>\n",
       "</table>\n",
       "</div>"
      ],
      "text/plain": [
       "          Mean        Max        Min    StdDev  Variance  Skewness  Kurtosis\n",
       "RN     5.20822      21.62        0.0    0.5524  3.147946  0.498253  3.044854\n",
       "RT     5.22239      21.62        0.0  0.550852  2.269222  0.822796  4.968971\n",
       "PN   23.995794  35.771483  13.062791   0.30418  0.300045  0.108545  0.849933\n",
       "PT    23.92866  35.470163  12.626998  0.245273  0.130735  0.224235  1.159490\n",
       "PPN  22.160852  34.296844  13.085094  0.287994  0.283457  0.111787  0.617180\n",
       "PPT  22.119613  35.396465  12.741892  0.222973  0.108338  0.236704  0.922548\n",
       "MN    0.073587   0.994394   0.000198  0.026129  0.000008  0.780114  1.804368\n",
       "MT    0.089482   0.993727   0.000176  0.047462  0.000051  1.524209  6.867919"
      ]
     },
     "execution_count": 6,
     "metadata": {},
     "output_type": "execute_result"
    }
   ],
   "source": [
    "# df_stat"
   ]
  },
  {
   "cell_type": "markdown",
   "metadata": {},
   "source": [
    "Combined analysis"
   ]
  },
  {
   "cell_type": "code",
   "execution_count": null,
   "metadata": {},
   "outputs": [],
   "source": [
    "# # combining dataframes by contactenation\n",
    "# df_rc = pd.concat([df_rn, df_rt], axis = 0)\n",
    "# df_pc = pd.concat([df_pn, df_pt], axis = 0)\n",
    "# df_ppc = pd.concat([df_ppn, df_ppt], axis = 0)\n",
    "# df_mc = pd.concat([df_mn, df_mt], axis = 0)\n",
    "\n"
   ]
  },
  {
   "cell_type": "code",
   "execution_count": null,
   "metadata": {},
   "outputs": [],
   "source": [
    "# dfs = [df_rc, df_pc, df_ppc, df_mc]\n",
    "# columns = [\"Mean\", \"Max\", \"Min\", \"StdDev\", \"Variance\", \"Skewness\"]\n",
    "# index = [\"R\", \"P\", \"PP\", \"M\"]\n",
    "# # creating a dataframe for all omics\n",
    "# df_stat = pd.DataFrame(columns=columns, index=index)\n",
    "# for i, df in enumerate(dfs):\n",
    "#     df_stat.loc[index[i], \"Mean\"] = df.mean().mean()\n",
    "#     df_stat.loc[index[i], \"Max\"] = df.max().max()\n",
    "#     df_stat.loc[index[i], \"Min\"] = df.min().min()\n",
    "#     df_stat.loc[index[i], \"StdDev\"] = df.std().std()\n",
    "#     df_stat.loc[index[i], \"Variance\"] = df.var().var()\n",
    "#     df_stat.loc[index[i], \"Skewness\"] = df.skew().mean()\n",
    "#     # kurtosis\n",
    "#     df_stat.loc[index[i], \"Kurtosis\"] = df.kurtosis().mean()\n",
    "\n",
    "\n"
   ]
  },
  {
   "cell_type": "code",
   "execution_count": null,
   "metadata": {},
   "outputs": [
    {
     "data": {
      "text/html": [
       "<div>\n",
       "<style scoped>\n",
       "    .dataframe tbody tr th:only-of-type {\n",
       "        vertical-align: middle;\n",
       "    }\n",
       "\n",
       "    .dataframe tbody tr th {\n",
       "        vertical-align: top;\n",
       "    }\n",
       "\n",
       "    .dataframe thead th {\n",
       "        text-align: right;\n",
       "    }\n",
       "</style>\n",
       "<table border=\"1\" class=\"dataframe\">\n",
       "  <thead>\n",
       "    <tr style=\"text-align: right;\">\n",
       "      <th></th>\n",
       "      <th>Mean</th>\n",
       "      <th>Max</th>\n",
       "      <th>Min</th>\n",
       "      <th>StdDev</th>\n",
       "      <th>Variance</th>\n",
       "      <th>Skewness</th>\n",
       "      <th>Kurtosis</th>\n",
       "    </tr>\n",
       "  </thead>\n",
       "  <tbody>\n",
       "    <tr>\n",
       "      <th>R</th>\n",
       "      <td>5.217754</td>\n",
       "      <td>21.62</td>\n",
       "      <td>0.0</td>\n",
       "      <td>0.591635</td>\n",
       "      <td>3.148571</td>\n",
       "      <td>0.888882</td>\n",
       "      <td>6.133854</td>\n",
       "    </tr>\n",
       "    <tr>\n",
       "      <th>P</th>\n",
       "      <td>23.953425</td>\n",
       "      <td>35.771483</td>\n",
       "      <td>12.626998</td>\n",
       "      <td>0.289579</td>\n",
       "      <td>0.225441</td>\n",
       "      <td>0.266352</td>\n",
       "      <td>1.131813</td>\n",
       "    </tr>\n",
       "    <tr>\n",
       "      <th>PP</th>\n",
       "      <td>22.134973</td>\n",
       "      <td>35.396465</td>\n",
       "      <td>12.741892</td>\n",
       "      <td>0.266479</td>\n",
       "      <td>0.201078</td>\n",
       "      <td>0.255453</td>\n",
       "      <td>0.849572</td>\n",
       "    </tr>\n",
       "    <tr>\n",
       "      <th>M</th>\n",
       "      <td>0.085067</td>\n",
       "      <td>0.994394</td>\n",
       "      <td>0.000176</td>\n",
       "      <td>0.04644</td>\n",
       "      <td>0.000049</td>\n",
       "      <td>1.646079</td>\n",
       "      <td>8.544412</td>\n",
       "    </tr>\n",
       "  </tbody>\n",
       "</table>\n",
       "</div>"
      ],
      "text/plain": [
       "         Mean        Max        Min    StdDev  Variance  Skewness  Kurtosis\n",
       "R    5.217754      21.62        0.0  0.591635  3.148571  0.888882  6.133854\n",
       "P   23.953425  35.771483  12.626998  0.289579  0.225441  0.266352  1.131813\n",
       "PP  22.134973  35.396465  12.741892  0.266479  0.201078  0.255453  0.849572\n",
       "M    0.085067   0.994394   0.000176   0.04644  0.000049  1.646079  8.544412"
      ]
     },
     "execution_count": 10,
     "metadata": {},
     "output_type": "execute_result"
    }
   ],
   "source": [
    "# df_stat"
   ]
  },
  {
   "cell_type": "code",
   "execution_count": null,
   "metadata": {},
   "outputs": [
    {
     "data": {
      "text/plain": [
       "(np.int64(0), np.int64(79213), np.int64(67810), np.int64(101))"
      ]
     },
     "execution_count": 11,
     "metadata": {},
     "output_type": "execute_result"
    }
   ],
   "source": [
    "#  # check for any NaN values\n",
    "# df_rc.isna().sum().sum(), df_pc.isna().sum().sum(), df_ppc.isna().sum().sum(), df_mc.isna().sum().sum()"
   ]
  },
  {
   "cell_type": "markdown",
   "metadata": {},
   "source": [
    "Adding Sample type "
   ]
  },
  {
   "cell_type": "code",
   "execution_count": null,
   "metadata": {},
   "outputs": [],
   "source": [
    "# # add colummn \"Sample Type\" \n",
    "# df_rn[\"Sample_Type\"] = \"Normal\"\n",
    "# df_rt[\"Sample_Type\"] = \"Tumor\"\n",
    "# df_pn[\"Sample_Type\"] = \"Normal\"\n",
    "# df_pt[\"Sample_Type\"] = \"Tumor\"\n",
    "# df_ppn[\"Sample_Type\"] = \"Normal\"\n",
    "# df_ppt[\"Sample_Type\"] = \"Tumor\"\n",
    "# df_mn[\"Sample_Type\"] = \"Normal\"\n",
    "# df_mt[\"Sample_Type\"] = \"Tumor\""
   ]
  },
  {
   "cell_type": "code",
   "execution_count": null,
   "metadata": {},
   "outputs": [],
   "source": [
    "# df_rc = pd.concat([df_rn, df_rt], axis = 0)\n",
    "# df_pc = pd.concat([df_pn, df_pt], axis = 0)\n",
    "# df_ppc = pd.concat([df_ppn, df_ppt], axis = 0)\n",
    "# df_mc = pd.concat([df_mn, df_mt], axis = 0)"
   ]
  },
  {
   "cell_type": "code",
   "execution_count": null,
   "metadata": {},
   "outputs": [
    {
     "data": {
      "text/plain": [
       "((162, 38457), (172, 9667), (172, 6360), (144, 13117))"
      ]
     },
     "execution_count": 9,
     "metadata": {},
     "output_type": "execute_result"
    }
   ],
   "source": [
    "# # shape of dataframes\n",
    "# df_rc.shape, df_pc.shape, df_ppc.shape, df_mc.shape"
   ]
  },
  {
   "cell_type": "code",
   "execution_count": null,
   "metadata": {},
   "outputs": [],
   "source": [
    "# # remove rows and columns with all NaN values\n",
    "# df_rc.dropna(axis=0, how='all', inplace=True)\n",
    "# df_rc.dropna(axis=1, how='all', inplace=True)\n",
    "# df_pc.dropna(axis=0, how='all', inplace=True)\n",
    "# df_pc.dropna(axis=1, how='all', inplace=True)\n",
    "# df_ppc.dropna(axis=0, how='all', inplace=True)\n",
    "# df_ppc.dropna(axis=1, how='all', inplace=True)\n",
    "# df_mc.dropna(axis=0, how='all', inplace=True)\n",
    "# df_mc.dropna(axis=1, how='all', inplace=True)"
   ]
  },
  {
   "cell_type": "markdown",
   "metadata": {},
   "source": [
    "Variance analysis for rna-seq data"
   ]
  },
  {
   "cell_type": "code",
   "execution_count": null,
   "metadata": {},
   "outputs": [],
   "source": [
    "# # create a dataframe without sample type column for variance analysis\n",
    "# df_rc_var = df_rc.drop(columns=[\"Sample_Type\"])\n",
    "# df_pc_var = df_pc.drop(columns=[\"Sample_Type\"])\n",
    "# df_ppc_var = df_ppc.drop(columns=[\"Sample_Type\"])\n",
    "# df_mc_var = df_mc.drop(columns=[\"Sample_Type\"])"
   ]
  },
  {
   "cell_type": "code",
   "execution_count": null,
   "metadata": {},
   "outputs": [
    {
     "data": {
      "image/png": "[encoded data removed]",
      "text/plain": [
       "<Figure size 800x600 with 1 Axes>"
      ]
     },
     "metadata": {},
     "output_type": "display_data"
    },
    {
     "data": {
      "image/png": "[encoded data removed]",
      "text/plain": [
       "<Figure size 800x600 with 1 Axes>"
      ]
     },
     "metadata": {},
     "output_type": "display_data"
    },
    {
     "data": {
      "image/png": "[encoded data removed]",
      "text/plain": [
       "<Figure size 800x600 with 1 Axes>"
      ]
     },
     "metadata": {},
     "output_type": "display_data"
    },
    {
     "data": {
      "image/png": "[encoded data removed]",
      "text/plain": [
       "<Figure size 800x600 with 1 Axes>"
      ]
     },
     "metadata": {},
     "output_type": "display_data"
    }
   ],
   "source": [
    "# # calculating variance for each feature RNA-seq\n",
    "\n",
    "# variance_rc = list(df_rc_var.var(skipna=True))\n",
    "\n",
    "# # frequency distribution of variance\n",
    "# plt.figure(figsize=(8,6))\n",
    "# plt.hist(variance_rc, bins=500, color='blue', alpha=0.7)\n",
    "# plt.title('Variance Distribution of RNA-seq Features', fontsize=16)\n",
    "# plt.xlabel('Variance', fontsize=14)\n",
    "# plt.ylabel('Frequency', fontsize=14)\n",
    "# plt.grid(axis='y', alpha=0.75)\n",
    "# plt.show()\n",
    "\n",
    "# # calculating variance for each feature Proteomics\n",
    "# variance_pc = list(df_pc_var.var(skipna=True))\n",
    "# # frequency distribution of variance\n",
    "# plt.figure(figsize=(8,6))\n",
    "# plt.hist(variance_pc, bins=500, color='green', alpha=0.7)\n",
    "# plt.title('Variance Distribution of Proteomics Features', fontsize=16)\n",
    "# plt.xlabel('Variance', fontsize=14)\n",
    "# plt.ylabel('Frequency', fontsize=14)\n",
    "# plt.grid(axis='y', alpha=0.75)\n",
    "# plt.show()\n",
    "\n",
    "# # calculating variance for each feature Phosphoproteomics\n",
    "# variance_ppc = list(df_ppc_var.var(skipna=True))\n",
    "# # frequency distribution of variance\n",
    "# plt.figure(figsize=(8,6))\n",
    "# plt.hist(variance_ppc, bins=500, color='orange', alpha=0.7)\n",
    "# plt.title('Variance Distribution of Phosphoproteomics Features', fontsize=16)\n",
    "# plt.xlabel('Variance', fontsize=14)\n",
    "# plt.ylabel('Frequency', fontsize=14)\n",
    "# plt.grid(axis='y', alpha=0.75)\n",
    "# plt.show()\n",
    "\n",
    "# # calculating variance for each feature Methylation\n",
    "# variance_mc = list(df_mc_var.var(skipna=True))\n",
    "# # frequency distribution of variance\n",
    "# plt.figure(figsize=(8,6))\n",
    "# plt.hist(variance_mc, bins=800, color='red', alpha=0.7)\n",
    "# plt.title('Variance Distribution of Methylation Features', fontsize=16)\n",
    "# plt.xlabel('Variance', fontsize=14)\n",
    "# plt.ylabel('Frequency', fontsize=14)\n",
    "# plt.grid(axis='y', alpha=0.75)\n",
    "# plt.show()\n"
   ]
  },
  {
   "cell_type": "code",
   "execution_count": null,
   "metadata": {},
   "outputs": [],
   "source": [
    "# # features with near zero variance\n",
    "# zero_variance_rc = list(df_rc_var.columns[df_rc_var.var() <= 0.01])\n",
    "# zero_variance_pc = list(df_pc_var.columns[df_pc_var.var() <= 0.01])\n",
    "# zero_variance_ppc = list(df_ppc_var.columns[df_ppc_var.var() <= 0.01])\n",
    "# zero_variance_mc = list(df_mc_var.columns[df_mc_var.var() <= 0.001])"
   ]
  },
  {
   "cell_type": "code",
   "execution_count": null,
   "metadata": {},
   "outputs": [
    {
     "name": "stdout",
     "output_type": "stream",
     "text": [
      "2805\n",
      "0\n",
      "0\n",
      "9389\n"
     ]
    }
   ],
   "source": [
    "# print(len(zero_variance_rc))\n",
    "# print(len(zero_variance_pc))\n",
    "# print(len(zero_variance_ppc))\n",
    "# print(len(zero_variance_mc))"
   ]
  },
  {
   "cell_type": "code",
   "execution_count": null,
   "metadata": {},
   "outputs": [],
   "source": [
    "# # remove features with zero variance\n",
    "# df_rc.drop(columns=zero_variance_rc, inplace=True)\n",
    "# df_pc.drop(columns=zero_variance_pc, inplace=True)\n",
    "# df_ppc.drop(columns=zero_variance_ppc, inplace=True)\n",
    "# df_mc.drop(columns=zero_variance_mc, inplace=True)"
   ]
  },
  {
   "cell_type": "code",
   "execution_count": null,
   "metadata": {},
   "outputs": [
    {
     "data": {
      "text/plain": [
       "((162, 35652), (172, 9667), (172, 6360), (144, 3728))"
      ]
     },
     "execution_count": 16,
     "metadata": {},
     "output_type": "execute_result"
    }
   ],
   "source": [
    "# # shape of dataframes\n",
    "# df_rc.shape, df_pc.shape, df_ppc.shape, df_mc.shape"
   ]
  },
  {
   "cell_type": "markdown",
   "metadata": {},
   "source": [
    "## Individual SO processing "
   ]
  },
  {
   "cell_type": "markdown",
   "metadata": {},
   "source": [
    "### RNA Seq"
   ]
  },
  {
   "cell_type": "markdown",
   "metadata": {},
   "source": [
    "### Removing low expreession genes "
   ]
  },
  {
   "cell_type": "code",
   "execution_count": null,
   "metadata": {},
   "outputs": [],
   "source": [
    "# # remove features with more than 90% <1 values --> step only for RNA-Seq\n",
    "# def remove_low_values(df, threshold, value=1):\n",
    "#     low_value_features = []\n",
    "#     for col in df.columns:\n",
    "#         low_value_count = (df[col] < value).sum()\n",
    "#         if low_value_count / len(df)  >= threshold:\n",
    "#             low_value_features.append(col)\n",
    "#     return low_value_features\n",
    "# low_value_features_rc = remove_low_values(df_rc_var, threshold=0.90, value=1)"
   ]
  },
  {
   "cell_type": "code",
   "execution_count": null,
   "metadata": {},
   "outputs": [
    {
     "data": {
      "text/plain": [
       "9389"
      ]
     },
     "execution_count": 37,
     "metadata": {},
     "output_type": "execute_result"
    }
   ],
   "source": [
    "\n",
    "# low_value_features_rc = list (set(low_value_features_rc) - set(zero_variance_rc))\n",
    "# len(low_value_features_rc)\n",
    "# len(zero_variance_mc)\n",
    "# # remove features with low values\n",
    "# #df_rc.drop(columns=low_value_features_rc, inplace=True)"
   ]
  },
  {
   "cell_type": "code",
   "execution_count": null,
   "metadata": {},
   "outputs": [],
   "source": [
    "# # save the processed dataframes\n",
    "#df_rc.to_csv(\"data/processed/RNAseq_processed.csv\")\n",
    "# df_pc.to_csv(\"data/processed/Proteomics_processed.csv\")\n",
    "# df_ppc.to_csv(\"data/processed/Phosphoproteomics_processed.csv\")\n",
    "# df_mc.to_csv(\"data/processed/Methylation_processed.csv\")"
   ]
  },
  {
   "cell_type": "code",
   "execution_count": null,
   "metadata": {},
   "outputs": [],
   "source": [
    "# df_rc = pd.read_csv(\"data/processed/RNAseq_processed.csv\", index_col=0)\n",
    "# df_pc = pd.read_csv(\"data/processed/Proteomics_processed.csv\", index_col = 0)\n",
    "# df_ppc = pd.read_csv(\"data/processed/Phosphoproteomics_processed.csv\", index_col =0 )\n",
    "# df_mc = pd.read_csv(\"data/processed/Methylation_processed.csv\", index = 0)"
   ]
  },
  {
   "cell_type": "code",
   "execution_count": 8,
   "metadata": {},
   "outputs": [
    {
     "data": {
      "text/html": [
       "<div>\n",
       "<style scoped>\n",
       "    .dataframe tbody tr th:only-of-type {\n",
       "        vertical-align: middle;\n",
       "    }\n",
       "\n",
       "    .dataframe tbody tr th {\n",
       "        vertical-align: top;\n",
       "    }\n",
       "\n",
       "    .dataframe thead th {\n",
       "        text-align: right;\n",
       "    }\n",
       "</style>\n",
       "<table border=\"1\" class=\"dataframe\">\n",
       "  <thead>\n",
       "    <tr style=\"text-align: right;\">\n",
       "      <th></th>\n",
       "      <th>A1BG</th>\n",
       "      <th>A2M</th>\n",
       "      <th>A2ML1</th>\n",
       "      <th>AAAS</th>\n",
       "      <th>AACS</th>\n",
       "      <th>AADAC</th>\n",
       "      <th>AAED1</th>\n",
       "      <th>AAGAB</th>\n",
       "      <th>AAK1</th>\n",
       "      <th>AAMDC</th>\n",
       "      <th>...</th>\n",
       "      <th>ZSCAN18</th>\n",
       "      <th>ZSWIM8</th>\n",
       "      <th>ZW10</th>\n",
       "      <th>ZWILCH</th>\n",
       "      <th>ZXDC</th>\n",
       "      <th>ZYG11B</th>\n",
       "      <th>ZYX</th>\n",
       "      <th>ZZEF1</th>\n",
       "      <th>ZZZ3</th>\n",
       "      <th>Sample_Type</th>\n",
       "    </tr>\n",
       "  </thead>\n",
       "  <tbody>\n",
       "    <tr>\n",
       "      <th>C3N-01858</th>\n",
       "      <td>28.995319</td>\n",
       "      <td>30.736379</td>\n",
       "      <td>29.040847</td>\n",
       "      <td>24.349255</td>\n",
       "      <td>24.835613</td>\n",
       "      <td>22.901014</td>\n",
       "      <td>NaN</td>\n",
       "      <td>24.350419</td>\n",
       "      <td>24.404310</td>\n",
       "      <td>24.653284</td>\n",
       "      <td>...</td>\n",
       "      <td>22.549447</td>\n",
       "      <td>24.874795</td>\n",
       "      <td>24.741568</td>\n",
       "      <td>22.474668</td>\n",
       "      <td>19.312808</td>\n",
       "      <td>22.574369</td>\n",
       "      <td>27.594966</td>\n",
       "      <td>24.716259</td>\n",
       "      <td>NaN</td>\n",
       "      <td>Normal</td>\n",
       "    </tr>\n",
       "    <tr>\n",
       "      <th>C3L-00997</th>\n",
       "      <td>28.603387</td>\n",
       "      <td>29.856150</td>\n",
       "      <td>28.953444</td>\n",
       "      <td>24.007908</td>\n",
       "      <td>25.429380</td>\n",
       "      <td>20.172090</td>\n",
       "      <td>NaN</td>\n",
       "      <td>24.408536</td>\n",
       "      <td>24.102491</td>\n",
       "      <td>26.070743</td>\n",
       "      <td>...</td>\n",
       "      <td>22.422195</td>\n",
       "      <td>25.118636</td>\n",
       "      <td>24.869126</td>\n",
       "      <td>22.319069</td>\n",
       "      <td>19.047789</td>\n",
       "      <td>22.734863</td>\n",
       "      <td>27.669626</td>\n",
       "      <td>24.672171</td>\n",
       "      <td>NaN</td>\n",
       "      <td>Normal</td>\n",
       "    </tr>\n",
       "    <tr>\n",
       "      <th>C3N-03849</th>\n",
       "      <td>29.747124</td>\n",
       "      <td>31.309474</td>\n",
       "      <td>27.664526</td>\n",
       "      <td>24.254423</td>\n",
       "      <td>24.757756</td>\n",
       "      <td>21.858144</td>\n",
       "      <td>NaN</td>\n",
       "      <td>24.190953</td>\n",
       "      <td>24.311839</td>\n",
       "      <td>25.586079</td>\n",
       "      <td>...</td>\n",
       "      <td>22.717747</td>\n",
       "      <td>24.980916</td>\n",
       "      <td>24.523857</td>\n",
       "      <td>22.277370</td>\n",
       "      <td>18.764842</td>\n",
       "      <td>22.976584</td>\n",
       "      <td>27.843381</td>\n",
       "      <td>24.647328</td>\n",
       "      <td>NaN</td>\n",
       "      <td>Normal</td>\n",
       "    </tr>\n",
       "    <tr>\n",
       "      <th>C3N-01859</th>\n",
       "      <td>29.002365</td>\n",
       "      <td>30.451296</td>\n",
       "      <td>28.925054</td>\n",
       "      <td>24.285946</td>\n",
       "      <td>25.090256</td>\n",
       "      <td>21.656457</td>\n",
       "      <td>19.038030</td>\n",
       "      <td>24.429677</td>\n",
       "      <td>24.198527</td>\n",
       "      <td>25.705912</td>\n",
       "      <td>...</td>\n",
       "      <td>NaN</td>\n",
       "      <td>24.751699</td>\n",
       "      <td>24.833425</td>\n",
       "      <td>22.397697</td>\n",
       "      <td>18.791202</td>\n",
       "      <td>22.980070</td>\n",
       "      <td>27.412686</td>\n",
       "      <td>24.612532</td>\n",
       "      <td>NaN</td>\n",
       "      <td>Normal</td>\n",
       "    </tr>\n",
       "    <tr>\n",
       "      <th>C3N-03933</th>\n",
       "      <td>29.462685</td>\n",
       "      <td>30.490461</td>\n",
       "      <td>28.327989</td>\n",
       "      <td>24.125763</td>\n",
       "      <td>24.496557</td>\n",
       "      <td>20.339912</td>\n",
       "      <td>19.371766</td>\n",
       "      <td>24.337448</td>\n",
       "      <td>24.230078</td>\n",
       "      <td>26.588817</td>\n",
       "      <td>...</td>\n",
       "      <td>NaN</td>\n",
       "      <td>24.649035</td>\n",
       "      <td>24.591532</td>\n",
       "      <td>22.136796</td>\n",
       "      <td>19.411112</td>\n",
       "      <td>23.439007</td>\n",
       "      <td>27.619972</td>\n",
       "      <td>24.746321</td>\n",
       "      <td>NaN</td>\n",
       "      <td>Normal</td>\n",
       "    </tr>\n",
       "    <tr>\n",
       "      <th>...</th>\n",
       "      <td>...</td>\n",
       "      <td>...</td>\n",
       "      <td>...</td>\n",
       "      <td>...</td>\n",
       "      <td>...</td>\n",
       "      <td>...</td>\n",
       "      <td>...</td>\n",
       "      <td>...</td>\n",
       "      <td>...</td>\n",
       "      <td>...</td>\n",
       "      <td>...</td>\n",
       "      <td>...</td>\n",
       "      <td>...</td>\n",
       "      <td>...</td>\n",
       "      <td>...</td>\n",
       "      <td>...</td>\n",
       "      <td>...</td>\n",
       "      <td>...</td>\n",
       "      <td>...</td>\n",
       "      <td>...</td>\n",
       "      <td>...</td>\n",
       "    </tr>\n",
       "    <tr>\n",
       "      <th>C3N-00846</th>\n",
       "      <td>27.724510</td>\n",
       "      <td>28.872764</td>\n",
       "      <td>26.589009</td>\n",
       "      <td>24.092558</td>\n",
       "      <td>24.826937</td>\n",
       "      <td>21.464655</td>\n",
       "      <td>NaN</td>\n",
       "      <td>24.635273</td>\n",
       "      <td>24.780526</td>\n",
       "      <td>25.175864</td>\n",
       "      <td>...</td>\n",
       "      <td>21.915140</td>\n",
       "      <td>24.975493</td>\n",
       "      <td>24.606444</td>\n",
       "      <td>22.460272</td>\n",
       "      <td>19.897436</td>\n",
       "      <td>22.679581</td>\n",
       "      <td>28.000263</td>\n",
       "      <td>24.664541</td>\n",
       "      <td>21.463090</td>\n",
       "      <td>Tumor</td>\n",
       "    </tr>\n",
       "    <tr>\n",
       "      <th>C3L-02617</th>\n",
       "      <td>27.452281</td>\n",
       "      <td>28.290845</td>\n",
       "      <td>26.369306</td>\n",
       "      <td>24.521894</td>\n",
       "      <td>24.965669</td>\n",
       "      <td>21.912340</td>\n",
       "      <td>NaN</td>\n",
       "      <td>24.917754</td>\n",
       "      <td>24.836311</td>\n",
       "      <td>24.554575</td>\n",
       "      <td>...</td>\n",
       "      <td>22.030518</td>\n",
       "      <td>24.368289</td>\n",
       "      <td>25.372397</td>\n",
       "      <td>23.407563</td>\n",
       "      <td>20.793089</td>\n",
       "      <td>22.721036</td>\n",
       "      <td>27.508147</td>\n",
       "      <td>24.483897</td>\n",
       "      <td>19.939257</td>\n",
       "      <td>Tumor</td>\n",
       "    </tr>\n",
       "    <tr>\n",
       "      <th>C3N-00498</th>\n",
       "      <td>27.550777</td>\n",
       "      <td>28.306769</td>\n",
       "      <td>26.988601</td>\n",
       "      <td>24.259002</td>\n",
       "      <td>24.772935</td>\n",
       "      <td>22.926921</td>\n",
       "      <td>NaN</td>\n",
       "      <td>24.678687</td>\n",
       "      <td>24.723487</td>\n",
       "      <td>24.258012</td>\n",
       "      <td>...</td>\n",
       "      <td>22.392432</td>\n",
       "      <td>24.824975</td>\n",
       "      <td>24.831691</td>\n",
       "      <td>23.118344</td>\n",
       "      <td>20.853360</td>\n",
       "      <td>22.379871</td>\n",
       "      <td>27.586838</td>\n",
       "      <td>24.336743</td>\n",
       "      <td>18.939514</td>\n",
       "      <td>Tumor</td>\n",
       "    </tr>\n",
       "    <tr>\n",
       "      <th>C3N-00299</th>\n",
       "      <td>27.943674</td>\n",
       "      <td>29.419415</td>\n",
       "      <td>27.298356</td>\n",
       "      <td>24.107359</td>\n",
       "      <td>25.234667</td>\n",
       "      <td>21.582354</td>\n",
       "      <td>NaN</td>\n",
       "      <td>24.602951</td>\n",
       "      <td>24.692635</td>\n",
       "      <td>24.552483</td>\n",
       "      <td>...</td>\n",
       "      <td>21.126252</td>\n",
       "      <td>25.079129</td>\n",
       "      <td>24.850881</td>\n",
       "      <td>23.049267</td>\n",
       "      <td>19.544530</td>\n",
       "      <td>22.439530</td>\n",
       "      <td>27.896172</td>\n",
       "      <td>24.712503</td>\n",
       "      <td>20.679235</td>\n",
       "      <td>Tumor</td>\n",
       "    </tr>\n",
       "    <tr>\n",
       "      <th>C3N-00307</th>\n",
       "      <td>27.598440</td>\n",
       "      <td>29.642949</td>\n",
       "      <td>26.838647</td>\n",
       "      <td>24.290384</td>\n",
       "      <td>24.461482</td>\n",
       "      <td>21.950662</td>\n",
       "      <td>NaN</td>\n",
       "      <td>24.415553</td>\n",
       "      <td>25.162692</td>\n",
       "      <td>24.643324</td>\n",
       "      <td>...</td>\n",
       "      <td>22.296204</td>\n",
       "      <td>24.862962</td>\n",
       "      <td>24.662407</td>\n",
       "      <td>22.461402</td>\n",
       "      <td>19.842678</td>\n",
       "      <td>22.488397</td>\n",
       "      <td>28.187328</td>\n",
       "      <td>24.577352</td>\n",
       "      <td>20.659480</td>\n",
       "      <td>Tumor</td>\n",
       "    </tr>\n",
       "  </tbody>\n",
       "</table>\n",
       "<p>172 rows × 9667 columns</p>\n",
       "</div>"
      ],
      "text/plain": [
       "                A1BG        A2M      A2ML1       AAAS       AACS      AADAC  \\\n",
       "C3N-01858  28.995319  30.736379  29.040847  24.349255  24.835613  22.901014   \n",
       "C3L-00997  28.603387  29.856150  28.953444  24.007908  25.429380  20.172090   \n",
       "C3N-03849  29.747124  31.309474  27.664526  24.254423  24.757756  21.858144   \n",
       "C3N-01859  29.002365  30.451296  28.925054  24.285946  25.090256  21.656457   \n",
       "C3N-03933  29.462685  30.490461  28.327989  24.125763  24.496557  20.339912   \n",
       "...              ...        ...        ...        ...        ...        ...   \n",
       "C3N-00846  27.724510  28.872764  26.589009  24.092558  24.826937  21.464655   \n",
       "C3L-02617  27.452281  28.290845  26.369306  24.521894  24.965669  21.912340   \n",
       "C3N-00498  27.550777  28.306769  26.988601  24.259002  24.772935  22.926921   \n",
       "C3N-00299  27.943674  29.419415  27.298356  24.107359  25.234667  21.582354   \n",
       "C3N-00307  27.598440  29.642949  26.838647  24.290384  24.461482  21.950662   \n",
       "\n",
       "               AAED1      AAGAB       AAK1      AAMDC  ...    ZSCAN18  \\\n",
       "C3N-01858        NaN  24.350419  24.404310  24.653284  ...  22.549447   \n",
       "C3L-00997        NaN  24.408536  24.102491  26.070743  ...  22.422195   \n",
       "C3N-03849        NaN  24.190953  24.311839  25.586079  ...  22.717747   \n",
       "C3N-01859  19.038030  24.429677  24.198527  25.705912  ...        NaN   \n",
       "C3N-03933  19.371766  24.337448  24.230078  26.588817  ...        NaN   \n",
       "...              ...        ...        ...        ...  ...        ...   \n",
       "C3N-00846        NaN  24.635273  24.780526  25.175864  ...  21.915140   \n",
       "C3L-02617        NaN  24.917754  24.836311  24.554575  ...  22.030518   \n",
       "C3N-00498        NaN  24.678687  24.723487  24.258012  ...  22.392432   \n",
       "C3N-00299        NaN  24.602951  24.692635  24.552483  ...  21.126252   \n",
       "C3N-00307        NaN  24.415553  25.162692  24.643324  ...  22.296204   \n",
       "\n",
       "              ZSWIM8       ZW10     ZWILCH       ZXDC     ZYG11B        ZYX  \\\n",
       "C3N-01858  24.874795  24.741568  22.474668  19.312808  22.574369  27.594966   \n",
       "C3L-00997  25.118636  24.869126  22.319069  19.047789  22.734863  27.669626   \n",
       "C3N-03849  24.980916  24.523857  22.277370  18.764842  22.976584  27.843381   \n",
       "C3N-01859  24.751699  24.833425  22.397697  18.791202  22.980070  27.412686   \n",
       "C3N-03933  24.649035  24.591532  22.136796  19.411112  23.439007  27.619972   \n",
       "...              ...        ...        ...        ...        ...        ...   \n",
       "C3N-00846  24.975493  24.606444  22.460272  19.897436  22.679581  28.000263   \n",
       "C3L-02617  24.368289  25.372397  23.407563  20.793089  22.721036  27.508147   \n",
       "C3N-00498  24.824975  24.831691  23.118344  20.853360  22.379871  27.586838   \n",
       "C3N-00299  25.079129  24.850881  23.049267  19.544530  22.439530  27.896172   \n",
       "C3N-00307  24.862962  24.662407  22.461402  19.842678  22.488397  28.187328   \n",
       "\n",
       "               ZZEF1       ZZZ3  Sample_Type  \n",
       "C3N-01858  24.716259        NaN       Normal  \n",
       "C3L-00997  24.672171        NaN       Normal  \n",
       "C3N-03849  24.647328        NaN       Normal  \n",
       "C3N-01859  24.612532        NaN       Normal  \n",
       "C3N-03933  24.746321        NaN       Normal  \n",
       "...              ...        ...          ...  \n",
       "C3N-00846  24.664541  21.463090        Tumor  \n",
       "C3L-02617  24.483897  19.939257        Tumor  \n",
       "C3N-00498  24.336743  18.939514        Tumor  \n",
       "C3N-00299  24.712503  20.679235        Tumor  \n",
       "C3N-00307  24.577352  20.659480        Tumor  \n",
       "\n",
       "[172 rows x 9667 columns]"
      ]
     },
     "execution_count": 8,
     "metadata": {},
     "output_type": "execute_result"
    }
   ],
   "source": [
    "df_pc"
   ]
  },
  {
   "cell_type": "markdown",
   "metadata": {},
   "source": [
    "## missing value managemnet"
   ]
  },
  {
   "cell_type": "markdown",
   "metadata": {},
   "source": [
    "those were managed in individual pipelines see phosphoproteome"
   ]
  },
  {
   "cell_type": "markdown",
   "metadata": {},
   "source": [
    "## Combining data fro MultiOmics"
   ]
  },
  {
   "cell_type": "code",
   "execution_count": 10,
   "metadata": {},
   "outputs": [],
   "source": [
    "df_r = pd.read_csv(\"data/processed/RNAseq_processed.csv\", index_col=0)\n",
    "df_p = pd.read_csv(\"data/processed/Proteomics_processed.csv\", index_col = 0)\n",
    "df_pp = pd.read_csv(\"data/processed/Phosphoproteomics_processed.csv\", index_col =0 )\n",
    "df_m = pd.read_csv(\"data/processed/Methylation_processed.csv\", index_col = 0)"
   ]
  },
  {
   "cell_type": "code",
   "execution_count": 31,
   "metadata": {},
   "outputs": [],
   "source": [
    "df_rn = df_r[df_r[\"Sample_Type\"] == \"Normal\"]\n",
    "df_mn = df_m[df_m[\"Sample_Type\"] == \"Normal\"]\n",
    "df_pn = df_p[df_p[\"Sample_Type\"] == \"Normal\"]\n",
    "df_ppn = df_pp[df_pp[\"Sample_Type\"] == \"Normal\"]\n",
    "df_rt = df_r[df_r[\"Sample_Type\"] == \"Tumor\"]\n",
    "df_mt = df_m[df_m[\"Sample_Type\"] == \"Tumor\"]\n",
    "df_pt = df_p[df_p[\"Sample_Type\"] == \"Tumor\"]\n",
    "df_ppt = df_pp[df_pp[\"Sample_Type\"] == \"Tumor\"]"
   ]
  },
  {
   "cell_type": "code",
   "execution_count": 33,
   "metadata": {},
   "outputs": [],
   "source": [
    "case_rn = list(df_rn.index)\n",
    "case_mn = list(df_mn.index)\n",
    "case_pn = list(df_pn.index)\n",
    "case_ppn = list(df_ppn.index)\n",
    "case_rt = list(df_rt.index)\n",
    "case_mt = list(df_mt.index)\n",
    "case_pt = list(df_pt.index)\n",
    "case_ppt = list(df_ppt.index)"
   ]
  },
  {
   "cell_type": "code",
   "execution_count": null,
   "metadata": {},
   "outputs": [
    {
     "data": {
      "text/plain": [
       "(162, 144, 172, 172)"
      ]
     },
     "execution_count": 23,
     "metadata": {},
     "output_type": "execute_result"
    }
   ],
   "source": [
    "ct"
   ]
  },
  {
   "cell_type": "code",
   "execution_count": 25,
   "metadata": {},
   "outputs": [],
   "source": [
    "case_r = set(df_r.index)\n",
    "case_m = set(df_m.index)\n",
    "case_p = set(df_p.index)\n",
    "case_pp = set(df_pp.index)"
   ]
  },
  {
   "cell_type": "code",
   "execution_count": 26,
   "metadata": {},
   "outputs": [
    {
     "data": {
      "text/plain": [
       "(109, 104, 109, 109)"
      ]
     },
     "execution_count": 26,
     "metadata": {},
     "output_type": "execute_result"
    }
   ],
   "source": [
    "len(case_r), len(case_m), len(case_p), len(case_pp)"
   ]
  },
  {
   "cell_type": "code",
   "execution_count": 44,
   "metadata": {},
   "outputs": [],
   "source": [
    "case_n = list((set(case_rn)).intersection(set(case_mn)).intersection(set(case_pn)).intersection(set(case_ppn)))"
   ]
  },
  {
   "cell_type": "code",
   "execution_count": 43,
   "metadata": {},
   "outputs": [],
   "source": [
    "case_t = list((set(case_rt)).intersection(set(case_mt)).intersection(set(case_pt)).intersection(set(case_ppt)))"
   ]
  },
  {
   "cell_type": "code",
   "execution_count": 58,
   "metadata": {},
   "outputs": [
    {
     "data": {
      "text/plain": [
       "['C3N-03456',\n",
       " 'C3N-02714',\n",
       " 'C3N-03015',\n",
       " 'C3N-01947',\n",
       " 'C3N-01754',\n",
       " 'C3N-03027',\n",
       " 'C3N-03433',\n",
       " 'C3N-01755',\n",
       " 'C3N-03458',\n",
       " 'C3N-01620',\n",
       " 'C3L-04844',\n",
       " 'C3L-04354',\n",
       " 'C3N-03849',\n",
       " 'C3N-03888',\n",
       " 'C3N-01946',\n",
       " 'C3N-03490',\n",
       " 'C3N-04280',\n",
       " 'C3N-03878',\n",
       " 'C3N-01858',\n",
       " 'C3N-02694',\n",
       " 'C3N-00829',\n",
       " 'C3N-03012',\n",
       " 'C3L-02651',\n",
       " 'C3N-00828',\n",
       " 'C3N-03009',\n",
       " 'C3N-00519',\n",
       " 'C3N-00297',\n",
       " 'C3N-01756',\n",
       " 'C3N-03785',\n",
       " 'C3N-02730',\n",
       " 'C3N-01943',\n",
       " 'C3L-00999',\n",
       " 'C3L-04849',\n",
       " 'C3L-03378',\n",
       " 'C3N-00498',\n",
       " 'C3N-03042',\n",
       " 'C3N-00204',\n",
       " 'C3L-01138',\n",
       " 'C3N-03837',\n",
       " 'C3N-02279',\n",
       " 'C3N-04277',\n",
       " 'C3L-00977',\n",
       " 'C3N-03928',\n",
       " 'C3N-02700',\n",
       " 'C3N-01645',\n",
       " 'C3N-03013',\n",
       " 'C3N-03226',\n",
       " 'C3N-02275',\n",
       " 'C3N-03487',\n",
       " 'C3N-04279',\n",
       " 'C3N-03841',\n",
       " 'C3N-01338',\n",
       " 'C3L-01237',\n",
       " 'C3N-01859',\n",
       " 'C3N-01948',\n",
       " 'C3N-03781',\n",
       " 'C3N-04611',\n",
       " 'C3N-03782',\n",
       " 'C3L-04025',\n",
       " 'C3L-02621',\n",
       " 'C3N-03045',\n",
       " 'C3N-01758',\n",
       " 'C3L-00994',\n",
       " 'C3N-01752',\n",
       " 'C3N-01340',\n",
       " 'C3N-03664',\n",
       " 'C3N-00307',\n",
       " 'C3N-04278',\n",
       " 'C3N-01944',\n",
       " 'C3N-00306',\n",
       " 'C3N-01945',\n",
       " 'C3N-01757',\n",
       " 'C3N-03889',\n",
       " 'C3N-03619',\n",
       " 'C3L-04791',\n",
       " 'C3N-00299',\n",
       " 'C3L-00995',\n",
       " 'C3N-02716',\n",
       " 'C3N-00295',\n",
       " 'C3N-00857',\n",
       " 'C3N-02713',\n",
       " 'C3N-03612',\n",
       " 'C3N-03457',\n",
       " 'C3N-04276',\n",
       " 'C3N-02333',\n",
       " 'C3N-03008',\n",
       " 'C3N-04275',\n",
       " 'C3N-02695',\n",
       " 'C3L-00997',\n",
       " 'C3N-03620',\n",
       " 'C3N-03488',\n",
       " 'C3N-03011',\n",
       " 'C3N-03028',\n",
       " 'C3N-04152',\n",
       " 'C3N-00822',\n",
       " 'C3N-01337',\n",
       " 'C3N-00846',\n",
       " 'C3N-03876',\n",
       " 'C3N-03783',\n",
       " 'C3N-04273',\n",
       " 'C3N-02693',\n",
       " 'C3N-02925',\n",
       " 'C3N-03933']"
      ]
     },
     "execution_count": 58,
     "metadata": {},
     "output_type": "execute_result"
    }
   ],
   "source": [
    "case_t"
   ]
  },
  {
   "cell_type": "code",
   "execution_count": 51,
   "metadata": {},
   "outputs": [
    {
     "data": {
      "text/plain": [
       "28"
      ]
     },
     "execution_count": 51,
     "metadata": {},
     "output_type": "execute_result"
    }
   ],
   "source": [
    "len(set(case_n))"
   ]
  },
  {
   "cell_type": "code",
   "execution_count": 52,
   "metadata": {},
   "outputs": [
    {
     "data": {
      "text/plain": [
       "103"
      ]
     },
     "execution_count": 52,
     "metadata": {},
     "output_type": "execute_result"
    }
   ],
   "source": [
    "len(set(case_t))"
   ]
  },
  {
   "cell_type": "code",
   "execution_count": 64,
   "metadata": {},
   "outputs": [],
   "source": [
    "df_rt = df_rt.loc[case_t]\n",
    "df_mt = df_mt.loc[case_t]\n",
    "df_pt = df_pt.loc[case_t]\n",
    "df_ppt = df_ppt.loc[case_t]\n",
    "df_rn = df_rn.loc[case_n]\n",
    "df_mn = df_mn.loc[case_n]\n",
    "df_pn = df_pn.loc[case_n]\n",
    "df_ppn = df_ppn.loc[case_n]\n"
   ]
  },
  {
   "cell_type": "code",
   "execution_count": 65,
   "metadata": {},
   "outputs": [
    {
     "data": {
      "text/plain": [
       "((103, 32298),\n",
       " (28, 32298),\n",
       " (103, 3728),\n",
       " (28, 3728),\n",
       " (103, 9659),\n",
       " (28, 9659),\n",
       " (103, 6342),\n",
       " (28, 6342))"
      ]
     },
     "execution_count": 65,
     "metadata": {},
     "output_type": "execute_result"
    }
   ],
   "source": [
    "df_rt.shape, df_rn.shape, df_mt.shape, df_mn.shape, df_pt.shape,df_pn.shape, df_ppt.shape, df_ppn.shape"
   ]
  },
  {
   "cell_type": "code",
   "execution_count": 66,
   "metadata": {},
   "outputs": [],
   "source": [
    "# stacking on top \n",
    "df_rf = pd.concat([df_rt, df_rn], axis = 0)\n",
    "df_mf = pd.concat([df_mt, df_mn], axis = 0)\n",
    "df_pf = pd.concat([df_pt,df_pn],axis =0)\n",
    "df_ppf = pd.concat([df_ppt,df_ppn],axis =0)"
   ]
  },
  {
   "cell_type": "code",
   "execution_count": 67,
   "metadata": {},
   "outputs": [
    {
     "data": {
      "text/plain": [
       "((131, 32298), (131, 3728), (131, 9659), (131, 6342))"
      ]
     },
     "execution_count": 67,
     "metadata": {},
     "output_type": "execute_result"
    }
   ],
   "source": [
    "df_rf.shape,df_mf.shape,df_pf.shape,df_ppf.shape"
   ]
  },
  {
   "cell_type": "code",
   "execution_count": 68,
   "metadata": {},
   "outputs": [],
   "source": [
    "# adding prefix according to omics types\n",
    "df_rf = df_rf.add_prefix(\"T_\")\n",
    "df_mf = df_mf.add_prefix(\"M_\")\n",
    "df_pf = df_pf.add_prefix(\"P_\")\n",
    "df_ppf = df_ppf.add_prefix(\"PP_\")"
   ]
  },
  {
   "cell_type": "code",
   "execution_count": 73,
   "metadata": {},
   "outputs": [],
   "source": [
    "# staching side by side on index\n",
    "data_all = pd.concat([df_rf,df_mf,df_pf,df_ppf], axis = 1)"
   ]
  },
  {
   "cell_type": "code",
   "execution_count": 76,
   "metadata": {},
   "outputs": [],
   "source": [
    "data_all.drop(columns=[\"T_Sample_Type\", \"M_Sample_Type\",\"P_Sample_Type\"], inplace=True)"
   ]
  },
  {
   "cell_type": "code",
   "execution_count": 79,
   "metadata": {},
   "outputs": [],
   "source": [
    "data_all.to_csv(\"data/processed/All_processed.csv\")"
   ]
  },
  {
   "cell_type": "code",
   "execution_count": null,
   "metadata": {},
   "outputs": [],
   "source": []
  }
 ],
 "metadata": {
  "kernelspec": {
   "display_name": "HNSCC",
   "language": "python",
   "name": "python3"
  },
  "language_info": {
   "codemirror_mode": {
    "name": "ipython",
    "version": 3
   },
   "file_extension": ".py",
   "mimetype": "text/x-python",
   "name": "python",
   "nbconvert_exporter": "python",
   "pygments_lexer": "ipython3",
   "version": "3.13.5"
  }
 },
 "nbformat": 4,
 "nbformat_minor": 2
}
